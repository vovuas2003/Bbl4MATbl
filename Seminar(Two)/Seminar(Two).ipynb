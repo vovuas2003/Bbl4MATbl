{
 "cells": [
  {
   "cell_type": "markdown",
   "metadata": {},
   "source": [
    "# Решение систем линейных уравнений"
   ]
  },
  {
   "cell_type": "markdown",
   "metadata": {},
   "source": [
    "## Метод LU разложения\n",
    "\n",
    "Классический алгоритм исключения неизвестных (Метод Гаусса) связан с представлением исходной матрицы $ A $ в виде произведения двух треугольных.\n",
    "\n",
    "Если выполнены условия \n",
    "\n",
    "$$ a_{11} \\neq 0;\\ \\det \\begin{pmatrix}\n",
    "a_{11} & a_{12} \\\\\n",
    "a_{21} & a_{22}\n",
    "\\end{pmatrix} \\neq 0;\\ \\det{|A|} \\neq 0 $$\n",
    "\n",
    "тогда матрица $ A $ представима в виде $ A = LU $, где $ L $ - нижняя треугольная, $ U $ - верхняя треугольная.\n",
    "\n",
    "Приведем рекуррентные формулы для определения треугольных матриц $ L $ и $ U $:\n",
    "\n",
    "$$ u_{11} = a_{11}, $$\n",
    "\n",
    "$$ u_{1j} = a_{1j},\\ l_{j1} = \\frac{ a_{j1} }{ u_{11} },\\ j=2,3,...,n $$\n",
    "\n",
    "$$ u_{ii} = a_{ii} - \\sum^{i-1}_{k=1}{ l_{ik} u_{ki} } $$\n",
    "\n",
    "$$ u_{ij} = a_{ij} - \\sum^{i-1}_{k=1}{ l_{ik} u_{kj} },\\ l_{ji} = \\frac{1}{u_{ii}} \\left( a_{ji} - \\sum^{j-1}_{k=1}{ l_{jk} u_{ki} } \\right),\\ i=2,3,...,n,\\ j=i+1,i+2,...,n $$\n",
    "\n",
    "После разложения решение сводится к последовательному решениюдвух систем уравненийс треугольными матрицами:\n",
    "\n",
    "$$ Ly = f;\\ Ux = y $$\n",
    "\n",
    "$$ y_k = f_k - \\sum^{k-1}_{j=1}{l_{kj}y_j},\\ x_k = \\frac{1}{u_{kk}} \\left( y_k - \\sum^{n}_{j=k+1}{u_{kj}x_j} \\right) $$"
   ]
  },
  {
   "cell_type": "markdown",
   "metadata": {},
   "source": [
    "## Метод Холецкого\n",
    "\n",
    "Матрица $A$ преобразуется как $ A = LL^T $\n",
    "\n",
    "Находим решение системы $ Lv = f$\n",
    "\n",
    "Затем $L^T u = v $\n",
    "\n",
    "Формулы расчеты коэффициентов векторов решения рассчитываются по формулам:\n",
    "\n",
    "Для первой системы:\n",
    "\n",
    "$$ v_i = l^{-1}_{ii} \\left( f_i - \\sum^i_{k=1}{l_{ki}v_k} \\right)$$\n",
    "\n",
    "Для второй системы:\n",
    "\n",
    "$$ u_k = l^{-1}_{kk} \\left( v_k - \\sum^n_{j=k+1}{l_{kj}u_j} \\right)$$"
   ]
  },
  {
   "cell_type": "markdown",
   "metadata": {},
   "source": [
    "### Пример с семинара\n",
    "\n",
    "$$ A = \\begin{pmatrix}\n",
    "0,78 & 0,563 \\\\\n",
    "0,457 & 0,33\n",
    "\\end{pmatrix},\\ f = \\begin{pmatrix}\n",
    "0,217 \\\\\n",
    "0,127 \n",
    "\\end{pmatrix} $$\n",
    "\n",
    "Решение данной системы $ x_1 = 1,\\ x_2 = -1 $\n",
    "\n",
    "Получем решение данной системы с помощью метода Гаусса. Проверим условия:\n",
    "\n",
    "$$ a_{11} = 0,78 \\neq 0 $$\n",
    "\n",
    "$$ \\det \\begin{pmatrix}\n",
    "0,78 & 0,563 \\\\\n",
    "0,457 & 0,33\n",
    "\\end{pmatrix} = 0,78 * 0,33 - 0,563 * 0,457 = 1,09 \\times 10^{-4} \\neq 0 $$\n",
    "\n",
    "$$ \\det{|A|} = |1,09 \\times 10^{-4}| \\neq 0 $$"
   ]
  },
  {
   "cell_type": "code",
   "execution_count": 1,
   "metadata": {},
   "outputs": [],
   "source": [
    "import numpy as np\n",
    "import matplotlib.pyplot as plt\n",
    "from numba import jit"
   ]
  },
  {
   "cell_type": "code",
   "execution_count": 2,
   "metadata": {},
   "outputs": [],
   "source": [
    "A = np.asarray( [ [ 0.78, 0.563 ], [ 0.457, 0.33 ] ] )\n",
    "\n",
    "f = np.asarray( [ 0.217, 0.127 + 0.0005 ] )"
   ]
  },
  {
   "cell_type": "code",
   "execution_count": 3,
   "metadata": {},
   "outputs": [],
   "source": [
    "@jit\n",
    "def decLU( A ):\n",
    "    \n",
    "    size = A.shape[ 0 ]\n",
    "    \n",
    "    U = np.zeros( ( size, size ) )\n",
    "    \n",
    "    L = np.zeros( ( size, size ) )\n",
    "    \n",
    "    for i in np.arange( 0, size, 1 ):\n",
    "        \n",
    "        for j in np.arange( 0, size, 1 ):\n",
    "                \n",
    "            if i == 0:\n",
    "                \n",
    "                U[ i ][ j ] = A[ i ][ j ]\n",
    "                \n",
    "                L[ j ][ i ] = A[ j ][ i ] / U[ 0 ][ 0 ]\n",
    "                \n",
    "                \n",
    "            else:\n",
    "                \n",
    "                S = 0.0\n",
    "                \n",
    "                for k in np.arange( 0, i - 1, 1 ):\n",
    "                    \n",
    "                    S += L[ i ][ k ] * U[ k ][ i ]\n",
    "                \n",
    "                U[ i ][ i ] = A[ i ][ i ] - S\n",
    "                \n",
    "                S = 0.0\n",
    "                \n",
    "                for k in np.arange( 0, i, 1 ):\n",
    "                    \n",
    "                    S += L[ i ][ k ] * U[ k ][ j ]                    \n",
    "                                \n",
    "                U[ i ][ j ] = A[ i ][ j ] - S\n",
    "                \n",
    "                S = 0.0\n",
    "                    \n",
    "                for k in np.arange( 0, i, 1 ):\n",
    "                    \n",
    "                    S += L[ j ][ k ] * U[ k ][ i ]\n",
    "                \n",
    "                L[ j ][ i ] = ( A[ j ][ i ] - S ) / U[ i ][ i ]\n",
    "                \n",
    "    return U, L"
   ]
  },
  {
   "cell_type": "code",
   "execution_count": 4,
   "metadata": {},
   "outputs": [],
   "source": [
    "@jit\n",
    "def Solve( A, f ):\n",
    "    \n",
    "    global decLU\n",
    "    \n",
    "    size = A.shape[ 0 ]\n",
    "    \n",
    "    y = np.zeros( size )\n",
    "    \n",
    "    x = np.zeros( size )\n",
    "    \n",
    "    U, L = decLU( A )\n",
    "    \n",
    "    for k in np.arange( 0, size, 1 ):\n",
    "        \n",
    "        #S = 0.0\n",
    "        \n",
    "        #for j in np.arange( 0, k-1, 1 ):\n",
    "            \n",
    "            #S += L[ k ][ j ] * u[ j ]\n",
    "        \n",
    "        y[ k ] = f[ k ] - np.dot( L[ k ][ 0:k ], y[ 0:k ] )\n",
    "        \n",
    "    for k in np.arange( size - 1, -1, -1 ):\n",
    "        \n",
    "        x[ k ] = ( y[ k ] - np.dot( U[ k ][ k+1:size ], x[ k+1:size ] ) ) / U[ k ][ k ]        \n",
    "        \n",
    "    return x"
   ]
  },
  {
   "cell_type": "code",
   "execution_count": 5,
   "metadata": {},
   "outputs": [],
   "source": [
    "x = Solve( A, f )"
   ]
  },
  {
   "cell_type": "code",
   "execution_count": 6,
   "metadata": {},
   "outputs": [
    {
     "data": {
      "text/plain": [
       "array([-1.58256881,  2.57798165])"
      ]
     },
     "execution_count": 6,
     "metadata": {},
     "output_type": "execute_result"
    }
   ],
   "source": [
    "x"
   ]
  }
 ],
 "metadata": {
  "kernelspec": {
   "display_name": "Python 3 (ipykernel)",
   "language": "python",
   "name": "python3"
  },
  "language_info": {
   "codemirror_mode": {
    "name": "ipython",
    "version": 3
   },
   "file_extension": ".py",
   "mimetype": "text/x-python",
   "name": "python",
   "nbconvert_exporter": "python",
   "pygments_lexer": "ipython3",
   "version": "3.10.9"
  }
 },
 "nbformat": 4,
 "nbformat_minor": 4
}
