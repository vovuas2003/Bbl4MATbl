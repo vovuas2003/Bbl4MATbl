{
 "cells": [
  {
   "cell_type": "code",
   "execution_count": null,
   "id": "bb51acc0",
   "metadata": {},
   "outputs": [],
   "source": [
    "import numpy as np\n",
    "import matplotlib as mpl\n",
    "from numpy import float32, float64\n",
    "import matplotlib.pyplot as plt\n",
    "from functools import partial\n",
    "import crudepy\n",
    "import itertools\n",
    "from collections import namedtuple\n",
    "from crudepy.numeric import integrate_trap\n",
    "import math\n",
    "import scipy as sp\n",
    "from numba import njit\n",
    "import matplotlib.animation as animation\n",
    "from scipy.optimize import fsolve"
   ]
  },
  {
   "cell_type": "code",
   "execution_count": null,
   "id": "f58579e5",
   "metadata": {},
   "outputs": [],
   "source": [
    "# For interactive plots\n",
    "%matplotlib notebook"
   ]
  },
  {
   "cell_type": "code",
   "execution_count": null,
   "id": "b156b338",
   "metadata": {},
   "outputs": [],
   "source": [
    "label_font = 12\n",
    "markersize = 8"
   ]
  },
  {
   "cell_type": "code",
   "execution_count": null,
   "id": "d7b92c4b",
   "metadata": {},
   "outputs": [],
   "source": [
    "def setup_axes(ax: plt.Axes):\n",
    "    ax.get_xaxis().set_visible(True)\n",
    "    ax.get_yaxis().set_visible(True)\n",
    "    ax.grid(True, which=\"both\")\n",
    "    plt.rcParams.update({\"figure.autolayout\": True})"
   ]
  },
  {
   "cell_type": "code",
   "execution_count": null,
   "id": "6dbc8af0",
   "metadata": {},
   "outputs": [],
   "source": [
    "def save_animation(x, y, name, interval=64):\n",
    "    fig, ax = plt.subplots(1, 1, figsize=(11.7, 8.3))\n",
    "\n",
    "    tau = 1.0\n",
    "    line = ax.plot(x[0], y[0])[0]\n",
    "    min_x = np.min(x)\n",
    "    max_x = np.max(x)\n",
    "    min_y = np.min(y)\n",
    "    max_y = np.max(y)\n",
    "\n",
    "    ax.set_xlim(min_x, max_x)\n",
    "    ax.set_ylim(min_y, max_y)\n",
    "\n",
    "    def update(frame):\n",
    "        line.set_xdata(x[:frame])\n",
    "        line.set_ydata(y[:frame])\n",
    "        return line\n",
    "\n",
    "    ani = animation.FuncAnimation(\n",
    "        fig=fig, func=update, frames=len(x), interval=interval\n",
    "    )\n",
    "    plt.show()\n",
    "\n",
    "    with open(name, \"w\") as file:\n",
    "        print(ani.to_html5_video(), file=file)"
   ]
  },
  {
   "cell_type": "markdown",
   "id": "c8642b71-3c3e-4593-950e-2fac01c5c36a",
   "metadata": {},
   "source": [
    "## Задача 1"
   ]
  },
  {
   "cell_type": "markdown",
   "id": "2137360a-5e91-4969-a7ec-afd4cd844ea5",
   "metadata": {},
   "source": [
    "### New variables\n",
    "\n",
    "$$\n",
    "\\begin{cases}\n",
    "    x_1 = x \\\\\n",
    "    x_2 = x' = x_1'\\\\\n",
    "    x_3 = y \\\\\n",
    "    x_4 = y' = x_3' \\\\\n",
    "\\end{cases}\n",
    "$$\n",
    "\n",
    "### System of first order differential equations\n",
    "\n",
    "$$\n",
    "\\begin{cases}\n",
    "    x_1' = x_2 \\\\\n",
    "    x_2' = - \\frac{x_1}{m L} T \\\\\n",
    "    x_3' = x_4 \\\\\n",
    "    x_4' = - \\frac{x_3}{m L} T - \\frac{F(t)}{m}\n",
    "\\end{cases}\n",
    "$$\n",
    "\n",
    "$$\n",
    "x_1^2 + x_3^2 = L^2 \\to x_1 x_1' + x_3 x_3' = 0 \\to (x_1')^2 + (x_3')^2 + x_1 x_1'' + x_3 x_3'' = 0 \\\\\n",
    "x_1 x_2' + x_3 x_4' = - [(x_1')^2 + (x_3')^2] = - [x_2^2 + x_4^2] \\\\\n",
    "x_1 x_2' + x_3 x_4' = - \\frac{L T + y F(t)}{m} \\\\\n",
    "x_2^2 + x_4^2 = \\frac{L T + y F(t)}{m} \\\\\n",
    "L T = m (x_2^2 + x_4^2) - yF(t) \\\\\n",
    "$$"
   ]
  },
  {
   "cell_type": "code",
   "execution_count": null,
   "id": "f6a78e0e-6f4c-4170-ae41-cece69768e4e",
   "metadata": {},
   "outputs": [],
   "source": [
    "# https://perso.crans.org/besson/publis/notebooks/Runge-Kutta_methods_for_ODE_integration_in_Python.html\n",
    "def rk4(fs: np.array, xs: np.array, t: float, step: float, **kwargs):\n",
    "    def get_next_value(f, y):\n",
    "        k_1 = f(xs, t, **kwargs)\n",
    "        k_2 = f(xs + k_1 * step / 2.0, t + step / 2.0, **kwargs)\n",
    "        k_3 = f(xs + k_2 * step / 2.0, t + step / 2.0, **kwargs)\n",
    "        k_4 = f(xs + k_3 * step, t + step, **kwargs)\n",
    "        return y + (step / 6.0) * (k_1 + 2.0 * k_2 + 2.0 * k_3 + k_4)\n",
    "\n",
    "    return np.vectorize(get_next_value)(fs, xs)"
   ]
  },
  {
   "cell_type": "code",
   "execution_count": null,
   "id": "465afc20-b27c-416d-98c5-fd83bd1c489c",
   "metadata": {},
   "outputs": [],
   "source": [
    "def calculate_tension(xs: np.array, t, m: float, f, l, *args, **kwargs) -> float:\n",
    "    return (m * (xs[1] ** 2.0 + xs[3] ** 2.0) - xs[2] * f(t, m)) / l\n",
    "\n",
    "\n",
    "def f_1(xs: np.array, *args, **kwargs) -> float:\n",
    "    return xs[1]\n",
    "\n",
    "\n",
    "def f_2(xs: np.array, t, m, l, f, *args, **kwargs) -> float:\n",
    "    tension = calculate_tension(xs, t, m, f, l)\n",
    "    return -1.0 * xs[0] / (m * l) * tension\n",
    "\n",
    "\n",
    "def f_3(xs: np.array, *args, **kwargs) -> float:\n",
    "    return xs[3]\n",
    "\n",
    "\n",
    "def f_4(xs: np.array, t, m, l, f, *args, **kwargs) -> float:\n",
    "    tension = calculate_tension(xs, t, m, f, l)\n",
    "    return -1.0 * xs[2] / (m * l) * tension - f(t, m) / m"
   ]
  },
  {
   "cell_type": "code",
   "execution_count": null,
   "id": "1e51ea1e",
   "metadata": {},
   "outputs": [],
   "source": [
    "def j_1(xs: np.array, *args, **kwargs) -> np.array:\n",
    "    return np.array([0.0, 1.0, 0.0, 0.0])\n",
    "\n",
    "\n",
    "# https://www.wolframalpha.com/input?i2d=true&i=Partial%5BDivide%5B-Subscript%5Bx%2C1%5D%2Cm+l%5DDivide%5Bm%2Cl%5D%5C%2840%29Power%5BSubscript%5Bx%2C2%5D%2C2%5D%2BPower%5BSubscript%5Bx%2C4%5D%2C2%5D%5C%2841%29+%2B+Subscript%5Bx%2C3%5DDivide%5BSubscript%5Bx%2C1%5D%2Cm+l%5D+f%5C%2840%29t%5C%2841%29%2CSubscript%5Bx%2C1%5D%5D\n",
    "def j_2(xs: np.array, t, m, l, f, *args, **kwargs) -> np.array:\n",
    "    return np.array(\n",
    "        [\n",
    "            (l * xs[2] * f(t, m) - m * xs[2] ** 2.0) / (l**2.0 * m)\n",
    "            - xs[3] ** 2.0 / l**2.0,\n",
    "            -2.0 * xs[0] * xs[1] / l**2.0,\n",
    "            xs[0] * f(t, m) / (l * m),\n",
    "            -2.0 * xs[0] * xs[3] / l**2.0,\n",
    "        ]\n",
    "    )\n",
    "\n",
    "\n",
    "def j_3(xs: np.array, *args, **kwargs) -> np.array:\n",
    "    return np.array([0.0, 0.0, 0.0, 1.0])\n",
    "\n",
    "\n",
    "def j_4(xs: np.array, t, m, l, *args, **kwargs) -> np.array:\n",
    "    return np.array(\n",
    "        [\n",
    "            0.0 - 2.0 * xs[1] * xs[2] / l**2.0,\n",
    "            (2 * l * xs[2] * f(t, m) - m * (xs[1] ** 2.0 + xs[3] ** 2.0))\n",
    "            / (l**2.0 * m),\n",
    "            -2.0 * xs[2] * xs[3] / l**2.0,\n",
    "        ]\n",
    "    )"
   ]
  },
  {
   "cell_type": "code",
   "execution_count": null,
   "id": "74279515",
   "metadata": {},
   "outputs": [],
   "source": [
    "m = 2.0  # kg\n",
    "l = 8.0  # m\n",
    "g = lambda t: 0.01 * np.cos(2 * np.pi * t)  # additional force\n",
    "f = lambda t, m: m * (9.81 + g(t))  # gravity\n",
    "fs = np.array([f_1, f_2, f_3, f_4])  # right-hand side\n",
    "js = np.array([j_1, j_2, j_3, j_4])  # jacobians for right-hand side\n",
    "xs_0 = np.array([3.0, 0.0, -np.sqrt(55.0), 0.0])  # initial position\n",
    "step = 0.01  # seconds"
   ]
  },
  {
   "cell_type": "code",
   "execution_count": null,
   "id": "83776337",
   "metadata": {},
   "outputs": [],
   "source": [
    "t = 0.0  # initial time\n",
    "t_b = 4.0  # upper bound on time\n",
    "xs = xs_0  # initial conditions\n",
    "solution = []\n",
    "\n",
    "while t <= t_b:\n",
    "    xs = rk4(fs, xs, t, step, m=m, l=l, f=f)\n",
    "    solution.append(xs)\n",
    "    t += step\n",
    "\n",
    "x = np.array(list(map(lambda y: y[0], solution)))\n",
    "y = np.array(list(map(lambda y: y[2], solution)))"
   ]
  },
  {
   "cell_type": "code",
   "execution_count": null,
   "id": "4eae56ef",
   "metadata": {},
   "outputs": [],
   "source": [
    "fig, ax = plt.subplots(1, 1, figsize=(11.7, 8.3))\n",
    "ax.set_title(\"Рис. 1. Решение явной схемой RK4\")\n",
    "ax.plot(x, y)\n",
    "fig.savefig(\"output/task1-explicit-rk4.pdf\", transparent=False, bbox_inches=\"tight\")"
   ]
  },
  {
   "cell_type": "code",
   "execution_count": null,
   "id": "82c71d76",
   "metadata": {},
   "outputs": [],
   "source": [
    "save_animation(x, y, \"output/task1-explicit-rk4.html\")"
   ]
  },
  {
   "cell_type": "code",
   "execution_count": null,
   "id": "af802e99",
   "metadata": {},
   "outputs": [],
   "source": [
    "def newton_solve(x0, f, jacob, eps: float64, norm=np.inf, max_iter=1000000) -> np.array:\n",
    "    cur = prev = x0\n",
    "\n",
    "    for i in range(max_iter):\n",
    "        j = jacob(*prev)\n",
    "        inv_jacob = np.linalg.inv(j)\n",
    "        delta = np.matmul(inv_jacob, f(*prev))\n",
    "        cur -= delta\n",
    "        err = np.linalg.norm(delta, norm)\n",
    "        if err < eps:\n",
    "            return cur\n",
    "\n",
    "    raise RuntimeWarning(\"Simple iteration does not converge or is slowly converging\")"
   ]
  },
  {
   "cell_type": "code",
   "execution_count": null,
   "id": "add360c6",
   "metadata": {},
   "outputs": [],
   "source": [
    "# Implementation of Explicit and Implicit Runge-Kutta methods to\n",
    "# reduce the computational cost of pollutant transport modeling\n",
    "# Ioannis Charis\n",
    "# https://en.wikipedia.org/wiki/Gauss%E2%80%93Legendre_method\n",
    "def gl4(\n",
    "    fs: np.array,\n",
    "    js: np.array,\n",
    "    xs: np.array,\n",
    "    t: float,\n",
    "    step: float,\n",
    "    eps: float,\n",
    "    max_iter: int = 10,\n",
    "    **kwargs\n",
    "):\n",
    "    # Butcher table for Gauss–Legendre\n",
    "    a11 = 0.25\n",
    "    a12 = 0.25 - np.sqrt(3.0) / 6.0\n",
    "    a21 = 0.25 + np.sqrt(3.0) / 6.0\n",
    "    a22 = 0.25\n",
    "\n",
    "    b1 = 0.5\n",
    "    b2 = 0.5\n",
    "\n",
    "    c1 = 0.5 - np.sqrt(3.0) / 6.0\n",
    "    c2 = 0.5 + np.sqrt(3.0) / 6.0\n",
    "\n",
    "    def get_next_value(f, j, y):\n",
    "        k = f(xs, t, **kwargs)\n",
    "\n",
    "        xs_1_guess = xs + c1 * step * k\n",
    "        xs_2_guess = xs - c2 * step * k\n",
    "\n",
    "        k_1_guess = f(xs_1_guess, t + c1 * step, **kwargs)\n",
    "        k_2_guess = f(xs_2_guess, t + c2 * step, **kwargs)\n",
    "        ks_0 = np.array([k_1_guess, k_2_guess])\n",
    "\n",
    "        def f_for_k(k_1_cur, k_2_cur):\n",
    "            return step * np.array(\n",
    "                [\n",
    "                    k_1_cur\n",
    "                    - f(\n",
    "                        xs + (k_1_cur * a11 + k_2_cur * a12) * step,\n",
    "                        t + c1 * step,\n",
    "                        **kwargs\n",
    "                    ),\n",
    "                    k_2_cur\n",
    "                    - f(\n",
    "                        xs + (k_1_cur * a21 + k_2_cur * a22) * step,\n",
    "                        t + c2 * step,\n",
    "                        **kwargs\n",
    "                    ),\n",
    "                ]\n",
    "            )\n",
    "\n",
    "        def j_for_k(k_1_cur, k_2_cur):\n",
    "            j1 = j(xs + (k_1_cur * a11 + k_2_cur * a12) * step, t + c1 * step, **kwargs)\n",
    "            j2 = j(xs + (k_1_cur * a12 + k_2_cur * a22) * step, t + c2 * step, **kwargs)\n",
    "\n",
    "            return np.eye(2) - step * np.array(\n",
    "                [\n",
    "                    [a11 * np.sum(j1), a12 * np.sum(j1)],\n",
    "                    [a21 * np.sum(j2), a22 * np.sum(j2)],\n",
    "                ]\n",
    "            )\n",
    "\n",
    "        ks = newton_solve(ks_0, f_for_k, j_for_k, eps=eps, max_iter=max_iter)\n",
    "        k_1, k_2 = ks\n",
    "        return y + step * (b1 * k_1 + b2 * k_2)\n",
    "\n",
    "    return np.vectorize(get_next_value)(fs, js, xs)"
   ]
  },
  {
   "cell_type": "code",
   "execution_count": null,
   "id": "616a789d",
   "metadata": {},
   "outputs": [],
   "source": [
    "step = 0.01  # seconds"
   ]
  },
  {
   "cell_type": "code",
   "execution_count": null,
   "id": "1273f7c3",
   "metadata": {},
   "outputs": [],
   "source": [
    "t = 0.0  # initial time\n",
    "t_b = 4.0  # upper bound on time\n",
    "xs = xs_0  # initial conditions\n",
    "solution = []\n",
    "\n",
    "while t <= t_b:\n",
    "    xs = gl4(fs, js, xs, t, step, 1e-6, 1000, m=m, l=l, f=f)\n",
    "    solution.append(xs)\n",
    "    t += step\n",
    "\n",
    "x = np.array(list(map(lambda y: y[0], solution)))\n",
    "y = np.array(list(map(lambda y: y[2], solution)))"
   ]
  },
  {
   "cell_type": "code",
   "execution_count": null,
   "id": "a4699ebe",
   "metadata": {},
   "outputs": [],
   "source": [
    "fig, ax = plt.subplots(1, 1, figsize=(11.7, 8.3))\n",
    "ax.set_title(\"Рис. 2. Решение неявной схемой GL4\")\n",
    "ax.plot(x, y)\n",
    "fig.savefig(\"output/task1-implicit-gl4.pdf\", transparent=False, bbox_inches=\"tight\")"
   ]
  },
  {
   "cell_type": "code",
   "execution_count": null,
   "id": "22320991",
   "metadata": {},
   "outputs": [],
   "source": [
    "save_animation(x, y, \"output/task1-implicit-gl4.html\")"
   ]
  },
  {
   "cell_type": "markdown",
   "id": "d564593a",
   "metadata": {},
   "source": [
    "## Задача 2"
   ]
  },
  {
   "cell_type": "markdown",
   "id": "34eca360-1e9c-4336-a6b4-7caad1d932c9",
   "metadata": {},
   "source": [
    "## Задача 3"
   ]
  },
  {
   "cell_type": "markdown",
   "id": "8fc7bebf",
   "metadata": {},
   "source": [
    "### New variables\n",
    "\n",
    "$$\n",
    "\\begin{cases}\n",
    "    u = y \\\\\n",
    "    v = y' \\\\\n",
    "\\end{cases}\n",
    "$$\n",
    "\n",
    "### System of first order differential equations\n",
    "\n",
    "$$\n",
    "\\begin{cases}\n",
    "    u' = v \\\\\n",
    "    v' = (3 - t^2) (cos(t) + v) + 2 - 6 t + 2 t^3 + (t^2 - 3) e^t sin(t) (1 + cos(t)) + cos(t) (e^t + (t^2 - 1) + t^4 - 3t^2)\n",
    "\\end{cases}\n",
    "$$\n",
    "\n",
    "$$\n",
    "\\begin{cases}\n",
    "    u(0) = 0 \\\\\n",
    "    u(\\pi) = \\pi^2\n",
    "\\end{cases}\n",
    "$$"
   ]
  },
  {
   "cell_type": "code",
   "execution_count": null,
   "id": "6734b7a3",
   "metadata": {},
   "outputs": [],
   "source": [
    "u_0 = 0.0"
   ]
  },
  {
   "cell_type": "code",
   "execution_count": null,
   "id": "5d4677a3",
   "metadata": {},
   "outputs": [],
   "source": [
    "@njit\n",
    "def f(xs, t):\n",
    "    u, v = xs\n",
    "    return v"
   ]
  },
  {
   "cell_type": "code",
   "execution_count": null,
   "id": "4f8757dc",
   "metadata": {},
   "outputs": [],
   "source": [
    "@njit\n",
    "def g(xs, t):\n",
    "    u, v = xs\n",
    "    return (\n",
    "        (3.0 - t**2.0) * (np.cos(t) + v)\n",
    "        + 2.0\n",
    "        - 6.0 * t\n",
    "        + 2.0 * t**3.0\n",
    "        + (t**2.0 - 3.0) * np.exp(t) * np.sin(t) * (1.0 + np.cos(t))\n",
    "        + np.cos(t) * (np.exp(t) + (t**2.0 - 1.0) + t**4.0 - 3.0 * t**2.0)\n",
    "    )"
   ]
  },
  {
   "cell_type": "code",
   "execution_count": null,
   "id": "f79aecc5",
   "metadata": {},
   "outputs": [],
   "source": [
    "@njit\n",
    "def get_next_value_rk4(f, y: float, xs: np.array, t: float, step: float):\n",
    "    k_1 = f(xs, t)\n",
    "    k_2 = f(xs + k_1 * step / 2.0, t + step / 2.0)\n",
    "    k_3 = f(xs + k_2 * step / 2.0, t + step / 2.0)\n",
    "    k_4 = f(xs + k_3 * step, t + step)\n",
    "\n",
    "    return y + (step / 6.0) * (k_1 + 2.0 * k_2 + 2.0 * k_3 + k_4)"
   ]
  },
  {
   "cell_type": "code",
   "execution_count": null,
   "id": "c272518d",
   "metadata": {},
   "outputs": [],
   "source": [
    "# https://perso.crans.org/besson/publis/notebooks/Runge-Kutta_methods_for_ODE_integration_in_Python.html\n",
    "@njit\n",
    "def rk4(f, x: float, xs: np.array, t: float, step: float):\n",
    "    return get_next_value_rk4(f, x, xs, t, step)"
   ]
  },
  {
   "cell_type": "code",
   "execution_count": null,
   "id": "76c30e44",
   "metadata": {},
   "outputs": [],
   "source": [
    "def solve_initial_value_problem(xs_0: np.array, step: float = 0.001):\n",
    "    global f\n",
    "    global g\n",
    "\n",
    "    t = 0.0  # initial time\n",
    "    t_b = np.pi  # upper bound on time\n",
    "    xs = xs_0  # initial conditions\n",
    "    solution = []\n",
    "\n",
    "    while t <= t_b:\n",
    "        u, v = xs\n",
    "        xs = np.array([rk4(f, u, xs, t, step), rk4(g, v, xs, t, step)])\n",
    "        solution.append(np.array([*xs, t]))\n",
    "        t += step\n",
    "\n",
    "    return np.array(solution).transpose()"
   ]
  },
  {
   "cell_type": "code",
   "execution_count": null,
   "id": "6fa04c26",
   "metadata": {},
   "outputs": [],
   "source": [
    "# https://pythonnumericalmethods.berkeley.edu/notebooks/chapter23.02-The-Shooting-Method.html\n",
    "def objective(v_0, step: float = 0.001):\n",
    "    us, vs, _ = solve_initial_value_problem(np.array([u_0, *v_0]), step)\n",
    "    expected_u = np.pi**2.0\n",
    "    return us[-1] - expected_u"
   ]
  },
  {
   "cell_type": "code",
   "execution_count": null,
   "id": "5ede2ef2",
   "metadata": {},
   "outputs": [],
   "source": [
    "(v_0,) = fsolve(objective, 0.0)\n",
    "us, vs, ts = solve_initial_value_problem(np.array([u_0, v_0]))"
   ]
  },
  {
   "cell_type": "code",
   "execution_count": null,
   "id": "7819d15e",
   "metadata": {},
   "outputs": [],
   "source": [
    "fig, ax = plt.subplots(1, 1, figsize=(11.7, 8.3))\n",
    "ax.set_title(\"Рис. 3. Решение краевой задачи методом стрельбы\")\n",
    "ax.plot(ts, us)\n",
    "ax.grid()\n",
    "fig.savefig(\"output/task3-shooting.pdf\", transparent=False, bbox_inches=\"tight\")"
   ]
  }
 ],
 "metadata": {
  "kernelspec": {
   "display_name": "Python 3 (ipykernel)",
   "language": "python",
   "name": "python3"
  },
  "language_info": {
   "codemirror_mode": {
    "name": "ipython",
    "version": 3
   },
   "file_extension": ".py",
   "mimetype": "text/x-python",
   "name": "python",
   "nbconvert_exporter": "python",
   "pygments_lexer": "ipython3",
   "version": "3.11.8"
  }
 },
 "nbformat": 4,
 "nbformat_minor": 5
}
